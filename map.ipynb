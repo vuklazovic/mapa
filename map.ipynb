{
 "cells": [
  {
   "cell_type": "code",
   "execution_count": null,
   "metadata": {},
   "outputs": [],
   "source": [
    "import requests,json,config,pickle\n",
    "\n",
    "coordinate=44.799432, 20.447455\n",
    "x=44.01115533984336\n",
    "y=20.910337884603837\n",
    "radius=300\n",
    "url = f\"https://maps.googleapis.com/maps/api/place/nearbysearch/json?location={x}%2C{y}&radius={radius}&type=restaurant&key={config.api_key}\"\n",
    "\n",
    "payload={}\n",
    "headers ={}\n",
    "\n",
    "\n",
    "l=[]"
   ]
  },
  {
   "cell_type": "code",
   "execution_count": 107,
   "metadata": {},
   "outputs": [],
   "source": [
    "class VCrequestClass:\n",
    "    api_key=\"\"\n",
    "    payload={}\n",
    "    headers ={}\n",
    "    def __init__(self):\n",
    "        self.api_key=config.api_key\n",
    "    def _glupi_hash(self,x,y,radius,type):\n",
    "        return str(x)+'|'+str(y)+str(radius)+'cafe'\n",
    "    def request(self,x,y,radius,type):\n",
    "        time.sleep(2)\n",
    "        url = f\"https://maps.googleapis.com/maps/api/place/nearbysearch/json?location={x}%2C{y}&radius={radius}&type={type}&key={self.api_key}\"\n",
    "        with open('cache.pkl', 'rb') as f:\n",
    "            cache = pickle.load(f)\n",
    "        if(self._glupi_hash(x,y,radius,type) in cache):\n",
    "            print('uzeto iz cache')\n",
    "            return cache[self._glupi_hash(x,y,radius,type)]\n",
    "        else:\n",
    "            page = requests.request(\"GET\", url, headers=self.headers, data=self.payload)\n",
    "            page_dict=json.loads(page1.text)\n",
    "            cache[self._glupi_hash(x,y,radius,type)]=page_dict\n",
    "            print(cache.keys())\n",
    "            with open('cache.pkl', 'wb') as f:\n",
    "                pickle.dump(cache, f)\n",
    "            return page_dict\n",
    "       \n"
   ]
  },
  {
   "cell_type": "code",
   "execution_count": null,
   "metadata": {},
   "outputs": [],
   "source": [
    "import time\n",
    "url = f\"https://maps.googleapis.com/maps/api/place/nearbysearch/json?location={x}%2C{y}&radius={radius}&type=cafe&key={config.api_key}\"\n",
    "\n",
    "page1 = requests.request(\"GET\", url, headers=headers, data=payload)\n",
    "page1_dict=json.loads(page1.text)\n",
    "l+=page1_dict['results']\n",
    "broj=1\n",
    "if('next_page_token' in page1_dict):\n",
    "    broj=2\n",
    "    next_page=page1_dict['next_page_token']\n",
    "    time.sleep(2)\n",
    "    url2 = f\"https://maps.googleapis.com/maps/api/place/nearbysearch/json?pagetoken={next_page}&key={config.api_key}\"\n",
    "    page2 = requests.request(\"GET\", url2, headers=headers, data=payload)\n",
    "    page2_dict=json.loads(page2.text)\n",
    "    l+=page2_dict['results']\n",
    "    if('next_page_token' in page2_dict):\n",
    "        broj=3\n",
    "        time.sleep(2)\n",
    "        next_page=page2_dict['next_page_token']\n",
    "        url = f\"https://maps.googleapis.com/maps/api/place/nearbysearch/json?pagetoken={next_page}&key={config.api_key}\"\n",
    "        page3 = requests.request(\"GET\", url, headers=headers, data=payload)\n",
    "        page3_dict=json.loads(page3.text)\n",
    "        l+=page3_dict['results']\n"
   ]
  },
  {
   "cell_type": "code",
   "execution_count": null,
   "metadata": {},
   "outputs": [],
   "source": [
    "for i in l: \n",
    "    # print(f\"{i['name']}\")\n",
    "    # print(f\"{i}\")\n",
    "    print(i['geometry']['location']['lat'],i['geometry']['location']['lng'])"
   ]
  },
  {
   "cell_type": "code",
   "execution_count": null,
   "metadata": {},
   "outputs": [],
   "source": []
  },
  {
   "cell_type": "code",
   "execution_count": null,
   "metadata": {},
   "outputs": [],
   "source": [
    "len(l)\n",
    "\n",
    "print(\"Cao cofi\")\n"
   ]
  },
  {
   "cell_type": "code",
   "execution_count": null,
   "metadata": {},
   "outputs": [],
   "source": [
    "from ipyleaflet import *\n",
    "from ipywidgets import HTML\n",
    "\n",
    "m=Map(center=(x,y),zoom=12,scroll_wheel_zoom=True)\n",
    "\n",
    "for i in l:\n",
    "    marker = Marker(location=(i['geometry']['location']['lat'],i['geometry']['location']['lng']),draggable=False)\n",
    "    m.add_layer(marker)\n",
    "   \n",
    "    message = HTML()\n",
    "    message.value = i['name']\n",
    "    \n",
    "    popup = Popup(\n",
    "        location=(x,y),\n",
    "        close_button=False,\n",
    "        auto_close=False,\n",
    "        close_on_escape_key=False\n",
    "    )\n",
    "\n",
    "    marker.popup = message\n",
    "\n",
    "circle3 = Circle()\n",
    "circle3.location = (44.01115533984336, 20.910337884603837)\n",
    "circle3.radius = 300\n",
    "circle3.color = \"red\"\n",
    "circle3.fill_color = \"red\"\n",
    "circle2 = Circle()\n",
    "circle2.location = (44.11115533984336, 20.910337884603837)\n",
    "circle2.radius = radius\n",
    "circle2.color = \"red\"\n",
    "circle2.fill_color = \"red\"\n",
    "print(circle2)\n",
    "print(circle3)\n",
    "m.add_layer(circle2)\n",
    "m.add_layer(circle3)\n",
    "\n",
    "m"
   ]
  },
  {
   "cell_type": "code",
   "execution_count": null,
   "metadata": {},
   "outputs": [],
   "source": []
  }
 ],
 "metadata": {
  "kernelspec": {
   "display_name": "Python 3",
   "language": "python",
   "name": "python3"
  },
  "language_info": {
   "codemirror_mode": {
    "name": "ipython",
    "version": 3
   },
   "file_extension": ".py",
   "mimetype": "text/x-python",
   "name": "python",
   "nbconvert_exporter": "python",
   "pygments_lexer": "ipython3",
   "version": "3.11.3"
  },
  "orig_nbformat": 4
 },
 "nbformat": 4,
 "nbformat_minor": 2
}
