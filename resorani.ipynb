Пинк Пантер Ћевабџиница Крагујевац
Ambrosia
Fast Food "Do Jaja"
Крофна Бар
Kafana Balkan
Kafana "Jugoslavija"
ЖАР Манце
Restoran D-moll
Panorama
Don Pizza
Angel & Devil
Vodenica
Жар Манце
NEPTUN
Мекдоналдс
Restaurant Dvoriste
Boske
Zeleni Zub Picerija
La Domino pizza
Zeus Gyros
Palacinkarnica i picerija Teki M
Mini pani
Ekipizza
Antoprom d.o.o. - Bife Teatar
Gyros Princip 2022
Chilli Grill
Era food
Plavi Bik
Klopaterija food concept
Casual Caffe Restaurante
Fijaker
Konoba Akustik Kragujevac
Bazar Bar
Casa Verde
Janin Raj
locevnska
Cola Gurmana
Restoran Picador
Restoran jezero
Toto moto
Chef no.1
Gyros Chef
Franz
Domaca Kuhinja
Restoran Šumadinac
FOOD BAR
Mustang Express
Pm
Ribarnica i posna hrana Pirana
Posna Hrana
Gradsko udruženje penzionera Kragujevac- Dom penzionera
Restoran brze hrane Vukas
Terminal 7 food&bar
Senza Concorrenza
Biftek
Giromanija GIROS U GLAVNOJ ULICI
Rolls Land
Restoran Sunce
Restoran MAGGI DI PASTA
Balkan House 2014
